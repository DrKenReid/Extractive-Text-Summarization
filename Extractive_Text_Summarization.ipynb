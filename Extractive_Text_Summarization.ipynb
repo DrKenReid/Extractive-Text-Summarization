{
  "nbformat": 4,
  "nbformat_minor": 0,
  "metadata": {
    "colab": {
      "provenance": [],
      "authorship_tag": "ABX9TyNfIH89yrjTu6t8Iz78BtgG",
      "include_colab_link": true
    },
    "kernelspec": {
      "name": "python3",
      "display_name": "Python 3"
    },
    "language_info": {
      "name": "python"
    }
  },
  "cells": [
    {
      "cell_type": "markdown",
      "metadata": {
        "id": "view-in-github",
        "colab_type": "text"
      },
      "source": [
        "<a href=\"https://colab.research.google.com/github/DrKenReid/Extractive-Text-Summarization/blob/main/Extractive_Text_Summarization.ipynb\" target=\"_parent\"><img src=\"https://colab.research.google.com/assets/colab-badge.svg\" alt=\"Open In Colab\"/></a>"
      ]
    },
    {
      "cell_type": "markdown",
      "source": [
        "# Text Summarization\n",
        "## Introduction\n",
        "This tutorial extractive summarization on text data. This tutorial will help you extract key information quickly.\n",
        "\n",
        "## Setup and Imports\n",
        "First, let's set up our environment and import the necessary Python libraries."
      ],
      "metadata": {
        "id": "lNQui6NQI1mz"
      }
    },
    {
      "cell_type": "code",
      "execution_count": 1,
      "metadata": {
        "colab": {
          "base_uri": "https://localhost:8080/"
        },
        "id": "215H-fc_Iybv",
        "outputId": "833b279e-8ede-43e6-834f-b93fe53cbdd2"
      },
      "outputs": [
        {
          "output_type": "stream",
          "name": "stdout",
          "text": [
            "Libraries imported successfully.\n"
          ]
        }
      ],
      "source": [
        "import re\n",
        "from collections import defaultdict\n",
        "import textwrap\n",
        "\n",
        "print(\"Libraries imported successfully.\")"
      ]
    },
    {
      "cell_type": "markdown",
      "source": [
        "## Implementing the Summarization Functions\n",
        "Now, let's implement our summarization functions. We'll create a series of functions that will preprocess the text, tokenize it into sentences, and then extract the most important sentences based on key medical terms."
      ],
      "metadata": {
        "id": "jTFypxcSLEEy"
      }
    },
    {
      "cell_type": "code",
      "source": [
        "def preprocess_text(text):\n",
        "    \"\"\"\n",
        "    Preprocess the text by removing special characters and converting to lowercase.\n",
        "\n",
        "    Args:\n",
        "        text (str): The input text to preprocess.\n",
        "\n",
        "    Returns:\n",
        "        str: The preprocessed text.\n",
        "    \"\"\"\n",
        "    # Remove special characters and digits\n",
        "    text = re.sub('[^a-zA-Z\\s]', '', text) # '[^a-zA-Z\\s]' matches any character that isn't a letter or whitespace.\n",
        "    # Convert to lowercase\n",
        "    text = text.lower()\n",
        "    return text\n",
        "\n",
        "def sentence_tokenize(text):\n",
        "    \"\"\"\n",
        "    Tokenize the text into sentences.\n",
        "\n",
        "    Args:\n",
        "        text (str): The input text to tokenize.\n",
        "\n",
        "    Returns:\n",
        "        list: A list of sentences.\n",
        "    \"\"\"\n",
        "    # Simple sentence tokenization by splitting on periods\n",
        "    return text.split('.')\n",
        "\n",
        "def summarize_text(text, num_sentences=3):\n",
        "    \"\"\"\n",
        "    Summarize the given medical text.\n",
        "\n",
        "    Args:\n",
        "        text (str): The input medical text to summarize.\n",
        "        num_sentences (int): The number of sentences to include in the summary.\n",
        "\n",
        "    Returns:\n",
        "        str: The summarized text.\n",
        "    \"\"\"\n",
        "    # Preprocess the text\n",
        "    preprocessed_text = preprocess_text(text)\n",
        "\n",
        "    # Tokenize into sentences\n",
        "    sentences = sentence_tokenize(text)\n",
        "\n",
        "    # Define key medical terms\n",
        "    key_terms = ['diagnosis', 'treatment', 'plan', 'presents', 'complains', 'history']\n",
        "\n",
        "    # Score sentences based on the presence of key terms\n",
        "    sentence_scores = defaultdict(int)\n",
        "    for i, sentence in enumerate(sentences):\n",
        "        for term in key_terms:\n",
        "            if term in sentence.lower():\n",
        "                sentence_scores[i] += 1\n",
        "\n",
        "    # Select top sentences\n",
        "    top_sentences = sorted(sentence_scores, key=sentence_scores.get, reverse=True)[:num_sentences]\n",
        "\n",
        "    # Construct the summary\n",
        "    summary = ' '.join([sentences[i].strip() for i in sorted(top_sentences)])\n",
        "\n",
        "    return summary\n",
        "\n",
        "print(\"Summarization functions defined successfully.\")"
      ],
      "metadata": {
        "colab": {
          "base_uri": "https://localhost:8080/"
        },
        "id": "Xc9nAd8GJJb0",
        "outputId": "7189cacf-b8c1-4a81-e52b-82382a609fd1"
      },
      "execution_count": 2,
      "outputs": [
        {
          "output_type": "stream",
          "name": "stdout",
          "text": [
            "Summarization functions defined successfully.\n"
          ]
        }
      ]
    },
    {
      "cell_type": "markdown",
      "source": [
        "## Using the Summarization Function\n",
        "Now that we have defined our summarization function, let's use it on a sample medical text."
      ],
      "metadata": {
        "id": "gOOwHrFRLL7a"
      }
    },
    {
      "cell_type": "code",
      "source": [
        "# Example usage\n",
        "medical_text = \"\"\"\n",
        "Patient presents with complaints of chest pain and shortness of breath for the past 3 days. Pain is described as sharp and worsens with exertion. Patient has a history of hypertension and type 2 diabetes, both controlled with medication. Physical examination reveals elevated blood pressure (150/90 mmHg) and slight wheezing in the lower left lung. ECG shows ST-segment depression in leads V3-V5. Initial troponin levels are slightly elevated. Diagnosis: Possible acute coronary syndrome. Plan: Admit patient for further cardiac workup, including serial troponins and stress test. Start on aspirin, beta-blockers, and consider anticoagulation therapy. Monitor vitals closely and manage pain as needed.\n",
        "\"\"\"\n",
        "\n",
        "summary = summarize_text(medical_text)\n",
        "print(\"Original medical text:\")\n",
        "print(textwrap.fill(medical_text, width=100))\n",
        "print(\"\\nSummary:\")\n",
        "print(textwrap.fill(summary, width=100))"
      ],
      "metadata": {
        "colab": {
          "base_uri": "https://localhost:8080/"
        },
        "id": "pXrniW-ILIUi",
        "outputId": "95058c1d-9b56-4dc9-a82c-d0bc01dbdb67"
      },
      "execution_count": 3,
      "outputs": [
        {
          "output_type": "stream",
          "name": "stdout",
          "text": [
            "Original medical text:\n",
            " Patient presents with complaints of chest pain and shortness of breath for the past 3 days. Pain is\n",
            "described as sharp and worsens with exertion. Patient has a history of hypertension and type 2\n",
            "diabetes, both controlled with medication. Physical examination reveals elevated blood pressure\n",
            "(150/90 mmHg) and slight wheezing in the lower left lung. ECG shows ST-segment depression in leads\n",
            "V3-V5. Initial troponin levels are slightly elevated. Diagnosis: Possible acute coronary syndrome.\n",
            "Plan: Admit patient for further cardiac workup, including serial troponins and stress test. Start on\n",
            "aspirin, beta-blockers, and consider anticoagulation therapy. Monitor vitals closely and manage pain\n",
            "as needed.\n",
            "\n",
            "Summary:\n",
            "Patient presents with complaints of chest pain and shortness of breath for the past 3 days Patient\n",
            "has a history of hypertension and type 2 diabetes, both controlled with medication Diagnosis:\n",
            "Possible acute coronary syndrome\n"
          ]
        }
      ]
    },
    {
      "cell_type": "markdown",
      "source": [
        "## Conclusion\n",
        "This tutorial has introduced you to a basic method of summarizing medical texts using data science techniques. The approach we've used is rule-based and focuses on extracting key sentences based on the presence of important medical terms."
      ],
      "metadata": {
        "id": "2VnWocXbLXba"
      }
    }
  ]
}